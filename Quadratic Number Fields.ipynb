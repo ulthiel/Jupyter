{
 "cells": [
  {
   "cell_type": "markdown",
   "id": "f064fe01-92b5-4ca7-a60f-1766cd075a21",
   "metadata": {
    "tags": []
   },
   "source": [
    "# Quadratic Number Fields\n",
    "\n",
    "An [OSCAR](https://www.oscar-system.org) notebook for my course, by [Ulrich Thiel](https://ulthiel.com/math)."
   ]
  },
  {
   "cell_type": "code",
   "execution_count": 2,
   "id": "9715e9ae-42c4-43e5-9e05-4c0603d94536",
   "metadata": {
    "tags": []
   },
   "outputs": [
    {
     "name": "stderr",
     "output_type": "stream",
     "text": [
      "\u001b[36m\u001b[1m[ \u001b[22m\u001b[39m\u001b[36m\u001b[1mInfo: \u001b[22m\u001b[39mPrecompiling Oscar [f1435218-dba5-11e9-1e4d-f1a5fab5fc13]\n",
      "WARNING: Method definition dense_poly_type(Type{Nemo.FpFieldElem}) in module Nemo at /home/thiel/.julia/packages/Nemo/jFzAs/src/flint/gfp_fmpz_poly.jl:27 overwritten in module HessQRModule at /home/thiel/.julia/packages/Hecke/qncxp/src/FunField/HessQR.jl:334.\n",
      "  ** incremental compilation may be fatally broken for this module **\n",
      "\n"
     ]
    },
    {
     "name": "stdout",
     "output_type": "stream",
     "text": [
      " -----    -----    -----      -      -----   \n",
      "|     |  |     |  |     |    | |    |     |  \n",
      "|     |  |        |         |   |   |     |  \n",
      "|     |   -----   |        |     |  |-----   \n",
      "|     |        |  |        |-----|  |   |    \n",
      "|     |  |     |  |     |  |     |  |    |   \n",
      " -----    -----    -----   -     -  -     -  \n",
      "\n",
      "...combining (and extending) ANTIC, GAP, Polymake and Singular\n",
      "Version\u001b[32m 0.12.0-DEV \u001b[39m... \n",
      " ... which comes with absolutely no warranty whatsoever\n",
      "Type: '?Oscar' for more information\n",
      "(c) 2019-2023 by The OSCAR Development Team\n"
     ]
    }
   ],
   "source": [
    "using Oscar"
   ]
  },
  {
   "cell_type": "markdown",
   "id": "eac845a1-4753-4562-b0d9-f79c9a457813",
   "metadata": {},
   "source": [
    "## Basic notions"
   ]
  },
  {
   "cell_type": "markdown",
   "id": "10e68920-228f-42d8-9d45-4fffd7a059a4",
   "metadata": {},
   "source": [
    "You can create a quadratic number field $K = \\mathbb{Q}(\\sqrt{d})$ as follows:"
   ]
  },
  {
   "cell_type": "code",
   "execution_count": 14,
   "id": "4bddd8ad-f830-4c77-a681-cd496c681f24",
   "metadata": {
    "tags": []
   },
   "outputs": [
    {
     "data": {
      "text/plain": [
       "(Real quadratic field defined by x^2 - 2, sqrt(2))"
      ]
     },
     "execution_count": 14,
     "metadata": {},
     "output_type": "execute_result"
    }
   ],
   "source": [
    "K, a = quadratic_field(2)"
   ]
  },
  {
   "cell_type": "markdown",
   "id": "31f1ea6b-90a2-42e0-ae98-16e70d6c06fb",
   "metadata": {},
   "source": [
    "The return value is a pair of the field $K$ itself and an element, here denoted $a$, such that $a^2 = d$."
   ]
  },
  {
   "cell_type": "code",
   "execution_count": 16,
   "id": "6705bb37-0c54-4fba-b3e4-9ab2ddbf7180",
   "metadata": {
    "tags": []
   },
   "outputs": [
    {
     "data": {
      "text/plain": [
       "2"
      ]
     },
     "execution_count": 16,
     "metadata": {},
     "output_type": "execute_result"
    }
   ],
   "source": [
    "a^2"
   ]
  },
  {
   "cell_type": "code",
   "execution_count": 18,
   "id": "a3cee802-f79d-4c55-8ea5-304d207efa2b",
   "metadata": {},
   "outputs": [
    {
     "data": {
      "text/plain": [
       "sqrt(2) + 1"
      ]
     },
     "execution_count": 18,
     "metadata": {},
     "output_type": "execute_result"
    }
   ],
   "source": [
    "α = 1 + a\n"
   ]
  },
  {
   "cell_type": "code",
   "execution_count": 19,
   "id": "405fe9eb-c75e-400d-8817-f81e2b028e56",
   "metadata": {
    "tags": []
   },
   "outputs": [
    {
     "data": {
      "text/plain": [
       "2"
      ]
     },
     "execution_count": 19,
     "metadata": {},
     "output_type": "execute_result"
    }
   ],
   "source": [
    "trace(α)"
   ]
  },
  {
   "cell_type": "code",
   "execution_count": 20,
   "id": "6b87c84b-28c4-48aa-bdca-7764eb08c469",
   "metadata": {},
   "outputs": [
    {
     "data": {
      "text/plain": [
       "-1"
      ]
     },
     "execution_count": 20,
     "metadata": {},
     "output_type": "execute_result"
    }
   ],
   "source": [
    "norm(α)"
   ]
  },
  {
   "cell_type": "code",
   "execution_count": 21,
   "id": "7824c540-d0be-4a5e-9961-2d67498f58b7",
   "metadata": {
    "tags": []
   },
   "outputs": [
    {
     "data": {
      "text/plain": [
       "x^2 - 2*x - 1"
      ]
     },
     "execution_count": 21,
     "metadata": {},
     "output_type": "execute_result"
    }
   ],
   "source": [
    "minimal_polynomial(α)"
   ]
  }
 ],
 "metadata": {
  "kernelspec": {
   "display_name": "Julia 1.8.5",
   "language": "julia",
   "name": "julia-1.8"
  },
  "language_info": {
   "file_extension": ".jl",
   "mimetype": "application/julia",
   "name": "julia",
   "version": "1.8.5"
  }
 },
 "nbformat": 4,
 "nbformat_minor": 5
}
